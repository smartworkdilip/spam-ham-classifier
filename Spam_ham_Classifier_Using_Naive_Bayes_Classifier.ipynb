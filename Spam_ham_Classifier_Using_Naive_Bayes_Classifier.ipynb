{
  "cells": [
    {
      "metadata": {
        "_uuid": "8f2839f25d086af736a60e9eeb907d3b93b6e0e5",
        "_cell_guid": "b1076dfc-b9ad-4769-8c92-a6c4dae69d19",
        "trusted": true
      },
      "cell_type": "code",
      "source": "# This Python 3 environment comes with many helpful analytics libraries installed\n# It is defined by the kaggle/python docker image: https://github.com/kaggle/docker-python\n# For example, here's several helpful packages to load in \n\nimport numpy as np # linear algebra\nimport pandas as pd # data processing, CSV file I/O (e.g. pd.read_csv)\n\n# Input data files are available in the \"../input/\" directory.\n# For example, running this (by clicking run or pressing Shift+Enter) will list the files in the input directory\n\nimport os\nprint(os.listdir(\"../input\"))\n\n# Any results you write to the current directory are saved as output.",
      "execution_count": 89,
      "outputs": [
        {
          "output_type": "stream",
          "text": "['SMSSpamCollection', 'readme']\n",
          "name": "stdout"
        }
      ]
    },
    {
      "metadata": {
        "_cell_guid": "79c7e3d0-c299-4dcb-8224-4455121ee9b0",
        "collapsed": true,
        "_uuid": "d629ff2d2480ee46fbb7e2d37f6b5fab8052498a",
        "trusted": false
      },
      "cell_type": "markdown",
      "source": "## Get the Data"
    },
    {
      "metadata": {
        "trusted": true,
        "_uuid": "13b04daa7fae6cab24f5e2c953e5fa255a5d42e6"
      },
      "cell_type": "code",
      "source": "message = [line.rstrip() for line in open('../input/SMSSpamCollection')]\nprint(len(message))",
      "execution_count": 90,
      "outputs": [
        {
          "output_type": "stream",
          "text": "5574\n",
          "name": "stdout"
        }
      ]
    },
    {
      "metadata": {
        "trusted": true,
        "_uuid": "9729bb06b2b6dd3e6f303360ce5d2862d680931d"
      },
      "cell_type": "code",
      "source": "for message_no,message in enumerate(message[:10]):\n    print(message_no,message)\n    print('\\n')",
      "execution_count": 91,
      "outputs": [
        {
          "output_type": "stream",
          "text": "0 ham\tGo until jurong point, crazy.. Available only in bugis n great world la e buffet... Cine there got amore wat...\n\n\n1 ham\tOk lar... Joking wif u oni...\n\n\n2 spam\tFree entry in 2 a wkly comp to win FA Cup final tkts 21st May 2005. Text FA to 87121 to receive entry question(std txt rate)T&C's apply 08452810075over18's\n\n\n3 ham\tU dun say so early hor... U c already then say...\n\n\n4 ham\tNah I don't think he goes to usf, he lives around here though\n\n\n5 spam\tFreeMsg Hey there darling it's been 3 week's now and no word back! I'd like some fun you up for it still? Tb ok! XxX std chgs to send, £1.50 to rcv\n\n\n6 ham\tEven my brother is not like to speak with me. They treat me like aids patent.\n\n\n7 ham\tAs per your request 'Melle Melle (Oru Minnaminunginte Nurungu Vettam)' has been set as your callertune for all Callers. Press *9 to copy your friends Callertune\n\n\n8 spam\tWINNER!! As a valued network customer you have been selected to receivea £900 prize reward! To claim call 09061701461. Claim code KL341. Valid 12 hours only.\n\n\n9 spam\tHad your mobile 11 months or more? U R entitled to Update to the latest colour mobiles with camera for Free! Call The Mobile Update Co FREE on 08002986030\n\n\n",
          "name": "stdout"
        }
      ]
    },
    {
      "metadata": {
        "trusted": true,
        "_uuid": "3fab10da97dc29ece0b8dc82db5c5f586198fb10"
      },
      "cell_type": "code",
      "source": "import pandas as pd",
      "execution_count": 92,
      "outputs": []
    },
    {
      "metadata": {
        "trusted": true,
        "_uuid": "5ee4f24254d3ae65f5fd0462a7beb0790f6ef335"
      },
      "cell_type": "code",
      "source": "message=pd.read_csv('../input/SMSSpamCollection',sep='\\t',names=[\"labels\",\"message\"])\nmessage.head()",
      "execution_count": 93,
      "outputs": [
        {
          "output_type": "execute_result",
          "execution_count": 93,
          "data": {
            "text/plain": "  labels                                            message\n0    ham  Go until jurong point, crazy.. Available only ...\n1    ham                      Ok lar... Joking wif u oni...\n2   spam  Free entry in 2 a wkly comp to win FA Cup fina...\n3    ham  U dun say so early hor... U c already then say...\n4    ham  Nah I don't think he goes to usf, he lives aro...",
            "text/html": "<div>\n<style scoped>\n    .dataframe tbody tr th:only-of-type {\n        vertical-align: middle;\n    }\n\n    .dataframe tbody tr th {\n        vertical-align: top;\n    }\n\n    .dataframe thead th {\n        text-align: right;\n    }\n</style>\n<table border=\"1\" class=\"dataframe\">\n  <thead>\n    <tr style=\"text-align: right;\">\n      <th></th>\n      <th>labels</th>\n      <th>message</th>\n    </tr>\n  </thead>\n  <tbody>\n    <tr>\n      <th>0</th>\n      <td>ham</td>\n      <td>Go until jurong point, crazy.. Available only ...</td>\n    </tr>\n    <tr>\n      <th>1</th>\n      <td>ham</td>\n      <td>Ok lar... Joking wif u oni...</td>\n    </tr>\n    <tr>\n      <th>2</th>\n      <td>spam</td>\n      <td>Free entry in 2 a wkly comp to win FA Cup fina...</td>\n    </tr>\n    <tr>\n      <th>3</th>\n      <td>ham</td>\n      <td>U dun say so early hor... U c already then say...</td>\n    </tr>\n    <tr>\n      <th>4</th>\n      <td>ham</td>\n      <td>Nah I don't think he goes to usf, he lives aro...</td>\n    </tr>\n  </tbody>\n</table>\n</div>"
          },
          "metadata": {}
        }
      ]
    },
    {
      "metadata": {
        "_uuid": "67ee5d48e9f8ac6d1e646c799dd45ec37af5e825"
      },
      "cell_type": "markdown",
      "source": "## Exploratory Data Analysis"
    },
    {
      "metadata": {
        "trusted": true,
        "_uuid": "6c7450eda9733db033403e4ae536876b4e9bb151"
      },
      "cell_type": "code",
      "source": "message.describe()",
      "execution_count": 94,
      "outputs": [
        {
          "output_type": "execute_result",
          "execution_count": 94,
          "data": {
            "text/plain": "       labels                 message\ncount    5572                    5572\nunique      2                    5169\ntop       ham  Sorry, I'll call later\nfreq     4825                      30",
            "text/html": "<div>\n<style scoped>\n    .dataframe tbody tr th:only-of-type {\n        vertical-align: middle;\n    }\n\n    .dataframe tbody tr th {\n        vertical-align: top;\n    }\n\n    .dataframe thead th {\n        text-align: right;\n    }\n</style>\n<table border=\"1\" class=\"dataframe\">\n  <thead>\n    <tr style=\"text-align: right;\">\n      <th></th>\n      <th>labels</th>\n      <th>message</th>\n    </tr>\n  </thead>\n  <tbody>\n    <tr>\n      <th>count</th>\n      <td>5572</td>\n      <td>5572</td>\n    </tr>\n    <tr>\n      <th>unique</th>\n      <td>2</td>\n      <td>5169</td>\n    </tr>\n    <tr>\n      <th>top</th>\n      <td>ham</td>\n      <td>Sorry, I'll call later</td>\n    </tr>\n    <tr>\n      <th>freq</th>\n      <td>4825</td>\n      <td>30</td>\n    </tr>\n  </tbody>\n</table>\n</div>"
          },
          "metadata": {}
        }
      ]
    },
    {
      "metadata": {
        "trusted": true,
        "_uuid": "dc7dccd0999c9a3efb2de51017be117f5e104b5b"
      },
      "cell_type": "code",
      "source": "message.groupby('labels').describe()",
      "execution_count": 95,
      "outputs": [
        {
          "output_type": "execute_result",
          "execution_count": 95,
          "data": {
            "text/plain": "       message ...      \n         count ...  freq\nlabels         ...      \nham       4825 ...    30\nspam       747 ...     4\n\n[2 rows x 4 columns]",
            "text/html": "<div>\n<style scoped>\n    .dataframe tbody tr th:only-of-type {\n        vertical-align: middle;\n    }\n\n    .dataframe tbody tr th {\n        vertical-align: top;\n    }\n\n    .dataframe thead tr th {\n        text-align: left;\n    }\n\n    .dataframe thead tr:last-of-type th {\n        text-align: right;\n    }\n</style>\n<table border=\"1\" class=\"dataframe\">\n  <thead>\n    <tr>\n      <th></th>\n      <th colspan=\"4\" halign=\"left\">message</th>\n    </tr>\n    <tr>\n      <th></th>\n      <th>count</th>\n      <th>unique</th>\n      <th>top</th>\n      <th>freq</th>\n    </tr>\n    <tr>\n      <th>labels</th>\n      <th></th>\n      <th></th>\n      <th></th>\n      <th></th>\n    </tr>\n  </thead>\n  <tbody>\n    <tr>\n      <th>ham</th>\n      <td>4825</td>\n      <td>4516</td>\n      <td>Sorry, I'll call later</td>\n      <td>30</td>\n    </tr>\n    <tr>\n      <th>spam</th>\n      <td>747</td>\n      <td>653</td>\n      <td>Please call our customer service representativ...</td>\n      <td>4</td>\n    </tr>\n  </tbody>\n</table>\n</div>"
          },
          "metadata": {}
        }
      ]
    },
    {
      "metadata": {
        "_uuid": "433d971e0b7d43dd4ce2b11bcfea9e562cac30a0"
      },
      "cell_type": "markdown",
      "source": "As we continue our analysis we want to start thinking about the features we are going to be using. This goes along with the general idea of [feature engineering](https://en.wikipedia.org/wiki/Feature_engineering). The better your domain knowledge on the data, the better your ability to engineer more features from it. Feature engineering is a very large part of spam detection in general. I encourage you to read up on the topic!\n\nLet's make a new column to detect how long the text messages are:"
    },
    {
      "metadata": {
        "trusted": true,
        "_uuid": "4ea80a382f1f748b6f0c61c37bac58c3bb4aa1bb"
      },
      "cell_type": "code",
      "source": "message['length']=message['message'].apply(len)\nmessage.head()",
      "execution_count": 96,
      "outputs": [
        {
          "output_type": "execute_result",
          "execution_count": 96,
          "data": {
            "text/plain": "  labels                                            message  length\n0    ham  Go until jurong point, crazy.. Available only ...     111\n1    ham                      Ok lar... Joking wif u oni...      29\n2   spam  Free entry in 2 a wkly comp to win FA Cup fina...     155\n3    ham  U dun say so early hor... U c already then say...      49\n4    ham  Nah I don't think he goes to usf, he lives aro...      61",
            "text/html": "<div>\n<style scoped>\n    .dataframe tbody tr th:only-of-type {\n        vertical-align: middle;\n    }\n\n    .dataframe tbody tr th {\n        vertical-align: top;\n    }\n\n    .dataframe thead th {\n        text-align: right;\n    }\n</style>\n<table border=\"1\" class=\"dataframe\">\n  <thead>\n    <tr style=\"text-align: right;\">\n      <th></th>\n      <th>labels</th>\n      <th>message</th>\n      <th>length</th>\n    </tr>\n  </thead>\n  <tbody>\n    <tr>\n      <th>0</th>\n      <td>ham</td>\n      <td>Go until jurong point, crazy.. Available only ...</td>\n      <td>111</td>\n    </tr>\n    <tr>\n      <th>1</th>\n      <td>ham</td>\n      <td>Ok lar... Joking wif u oni...</td>\n      <td>29</td>\n    </tr>\n    <tr>\n      <th>2</th>\n      <td>spam</td>\n      <td>Free entry in 2 a wkly comp to win FA Cup fina...</td>\n      <td>155</td>\n    </tr>\n    <tr>\n      <th>3</th>\n      <td>ham</td>\n      <td>U dun say so early hor... U c already then say...</td>\n      <td>49</td>\n    </tr>\n    <tr>\n      <th>4</th>\n      <td>ham</td>\n      <td>Nah I don't think he goes to usf, he lives aro...</td>\n      <td>61</td>\n    </tr>\n  </tbody>\n</table>\n</div>"
          },
          "metadata": {}
        }
      ]
    },
    {
      "metadata": {
        "_uuid": "f5a51c4b8fc0eeafc40dd1bd401aa366800dca8d"
      },
      "cell_type": "markdown",
      "source": "### Data Visualization\nLet's visualize this! Let's do the imports:"
    },
    {
      "metadata": {
        "trusted": true,
        "_uuid": "687ad4261e619dc120bdff4f20ecd69dcaa95c1f"
      },
      "cell_type": "code",
      "source": "import matplotlib.pyplot as plt\nimport seaborn as sns\n%matplotlib inline",
      "execution_count": 97,
      "outputs": []
    },
    {
      "metadata": {
        "trusted": true,
        "_uuid": "275ea822b0c6bef20b23f2724138da1faa46fd5d"
      },
      "cell_type": "code",
      "source": "message['length'].plot(bins=50,kind='hist')",
      "execution_count": 98,
      "outputs": [
        {
          "output_type": "execute_result",
          "execution_count": 98,
          "data": {
            "text/plain": "<matplotlib.axes._subplots.AxesSubplot at 0x7fd7a71d7ac8>"
          },
          "metadata": {}
        },
        {
          "output_type": "display_data",
          "data": {
            "text/plain": "<Figure size 432x288 with 1 Axes>",
            "image/png": "[encoded data removed]"
          },
          "metadata": {}
        }
      ]
    },
    {
      "metadata": {
        "trusted": true,
        "_uuid": "4d7658a542ab863a2d9f96726e4cfa2d901f2763"
      },
      "cell_type": "code",
      "source": "message.length.describe()",
      "execution_count": 99,
      "outputs": [
        {
          "output_type": "execute_result",
          "execution_count": 99,
          "data": {
            "text/plain": "count    5572.000000\nmean       80.489950\nstd        59.942907\nmin         2.000000\n25%        36.000000\n50%        62.000000\n75%       122.000000\nmax       910.000000\nName: length, dtype: float64"
          },
          "metadata": {}
        }
      ]
    },
    {
      "metadata": {
        "_uuid": "abd4b8d46edb4450be3cb2169173f4a3c9e5ce63"
      },
      "cell_type": "markdown",
      "source": "Woah! 910 characters, let's use masking to find this message:"
    },
    {
      "metadata": {
        "trusted": true,
        "_uuid": "3fb6c3ea1a7bc996e841851bbf0186512f1ca108"
      },
      "cell_type": "code",
      "source": "message[message['length']==910]['message'].iloc[0]",
      "execution_count": 100,
      "outputs": [
        {
          "output_type": "execute_result",
          "execution_count": 100,
          "data": {
            "text/plain": "\"For me the love should start with attraction.i should feel that I need her every time around me.she should be the first thing which comes in my thoughts.I would start the day and end it with her.she should be there every time I dream.love will be then when my every breath has her name.my life should happen around her.my life will be named to her.I would cry for her.will give all my happiness and take all her sorrows.I will be ready to fight with anyone for her.I will be in love when I will be doing the craziest things for her.love will be when I don't have to proove anyone that my girl is the most beautiful lady on the whole planet.I will always be singing praises for her.love will be when I start up making chicken curry and end up makiing sambar.life will be the most beautiful then.will get every morning and thank god for the day because she is with me.I would like to say a lot..will tell later..\""
          },
          "metadata": {}
        }
      ]
    },
    {
      "metadata": {
        "_uuid": "bc5af0471b6ba34939d3bc29674bea69dd951670"
      },
      "cell_type": "markdown",
      "source": "Looks like we have some sort of Romeo sending texts! But let's focus back on the idea of trying to see if message length is a distinguishing feature between ham and spam"
    },
    {
      "metadata": {
        "_uuid": "1992213dcf47852ec603874ddaa4c820b94dae65"
      },
      "cell_type": "markdown",
      "source": "## Text Pre-processing"
    },
    {
      "metadata": {
        "_uuid": "69b6b489cd005118861e2806a623d68863b5a2ac"
      },
      "cell_type": "markdown",
      "source": "Our main issue with our data is that it is all in text format (strings). The classification algorithms that we've learned about so far will need some sort of numerical feature vector in order to perform the classification task. There are actually many methods to convert a corpus to a vector format. The simplest is the the [bag-of-words](http://en.wikipedia.org/wiki/Bag-of-words_model) approach, where each unique word in a text will be represented by one number.\n\n\nIn this section we'll convert the raw messages (sequence of characters) into vectors (sequences of numbers).\n\nAs a first step, let's write a function that will split a message into its individual words and return a list. We'll also remove very common words, ('the', 'a', etc..). To do this we will take advantage of the NLTK library. It's pretty much the standard library in Python for processing text and has a lot of useful features. We'll only use some of the basic ones here.\n\nLet's create a function that will process the string in the message column, then we can just use **apply()** in pandas do process all the text in the DataFrame.\n\nFirst removing punctuation. We can just take advantage of Python's built-in **string** library to get a quick list of all the possible punctuation:"
    },
    {
      "metadata": {
        "trusted": true,
        "_uuid": "76e62c93d7140b9fcded80fd9db639ba36d0d64f"
      },
      "cell_type": "code",
      "source": "import string\nmess = 'sample message!...'\nnopunc=[char for char in mess if char not in string.punctuation]\nnopunc=''.join(nopunc)\nprint(nopunc)",
      "execution_count": 101,
      "outputs": [
        {
          "output_type": "stream",
          "text": "sample message\n",
          "name": "stdout"
        }
      ]
    },
    {
      "metadata": {
        "trusted": true,
        "_uuid": "be3897135f9735322f01e742b1986474616bf605"
      },
      "cell_type": "code",
      "source": "from nltk.corpus import stopwords\nstopwords.words('english')[0:10]",
      "execution_count": 102,
      "outputs": [
        {
          "output_type": "execute_result",
          "execution_count": 102,
          "data": {
            "text/plain": "['i', 'me', 'my', 'myself', 'we', 'our', 'ours', 'ourselves', 'you', \"you're\"]"
          },
          "metadata": {}
        }
      ]
    },
    {
      "metadata": {
        "trusted": true,
        "_uuid": "8894c57b7f61121c18021585cf225a427fd96c01"
      },
      "cell_type": "code",
      "source": "nopunc.split()",
      "execution_count": 103,
      "outputs": [
        {
          "output_type": "execute_result",
          "execution_count": 103,
          "data": {
            "text/plain": "['sample', 'message']"
          },
          "metadata": {}
        }
      ]
    },
    {
      "metadata": {
        "trusted": true,
        "_uuid": "45d608a02e8845f30e865853f17ed9141f3f1dbe"
      },
      "cell_type": "code",
      "source": "clean_mess=[word for word in nopunc.split() if word.lower() not in stopwords.words('english')]",
      "execution_count": 104,
      "outputs": []
    },
    {
      "metadata": {
        "trusted": true,
        "_uuid": "e15953b3e2e0c619371574136059c939b082fa1a"
      },
      "cell_type": "code",
      "source": "clean_mess",
      "execution_count": 105,
      "outputs": [
        {
          "output_type": "execute_result",
          "execution_count": 105,
          "data": {
            "text/plain": "['sample', 'message']"
          },
          "metadata": {}
        }
      ]
    },
    {
      "metadata": {
        "_uuid": "e56afee05e1339c7781a284b9f4723c39c9eb2fe"
      },
      "cell_type": "markdown",
      "source": "Now let's put both of these together in a function to apply it to our DataFrame later on:"
    },
    {
      "metadata": {
        "trusted": true,
        "_uuid": "6d03952dcf0c851708e51f1bbd7ff1447326f035"
      },
      "cell_type": "code",
      "source": "def text_process(mess):\n    nopunc =[char for char in mess if char not in string.punctuation]\n    nopunc=''.join(nopunc)\n    return [word for word in nopunc.split() if word.lower() not in stopwords.words('english')]",
      "execution_count": 106,
      "outputs": []
    },
    {
      "metadata": {
        "_uuid": "9f6c5b5a4140b695a01ed5acd5781c5c8728a0b7"
      },
      "cell_type": "markdown",
      "source": "Here is the original DataFrame again:"
    },
    {
      "metadata": {
        "trusted": true,
        "_uuid": "734f8c0c7e25f7a2b2f5da2b551bfbb1fc6a6ed1"
      },
      "cell_type": "code",
      "source": "message.head()",
      "execution_count": 107,
      "outputs": [
        {
          "output_type": "execute_result",
          "execution_count": 107,
          "data": {
            "text/plain": "  labels                                            message  length\n0    ham  Go until jurong point, crazy.. Available only ...     111\n1    ham                      Ok lar... Joking wif u oni...      29\n2   spam  Free entry in 2 a wkly comp to win FA Cup fina...     155\n3    ham  U dun say so early hor... U c already then say...      49\n4    ham  Nah I don't think he goes to usf, he lives aro...      61",
            "text/html": "<div>\n<style scoped>\n    .dataframe tbody tr th:only-of-type {\n        vertical-align: middle;\n    }\n\n    .dataframe tbody tr th {\n        vertical-align: top;\n    }\n\n    .dataframe thead th {\n        text-align: right;\n    }\n</style>\n<table border=\"1\" class=\"dataframe\">\n  <thead>\n    <tr style=\"text-align: right;\">\n      <th></th>\n      <th>labels</th>\n      <th>message</th>\n      <th>length</th>\n    </tr>\n  </thead>\n  <tbody>\n    <tr>\n      <th>0</th>\n      <td>ham</td>\n      <td>Go until jurong point, crazy.. Available only ...</td>\n      <td>111</td>\n    </tr>\n    <tr>\n      <th>1</th>\n      <td>ham</td>\n      <td>Ok lar... Joking wif u oni...</td>\n      <td>29</td>\n    </tr>\n    <tr>\n      <th>2</th>\n      <td>spam</td>\n      <td>Free entry in 2 a wkly comp to win FA Cup fina...</td>\n      <td>155</td>\n    </tr>\n    <tr>\n      <th>3</th>\n      <td>ham</td>\n      <td>U dun say so early hor... U c already then say...</td>\n      <td>49</td>\n    </tr>\n    <tr>\n      <th>4</th>\n      <td>ham</td>\n      <td>Nah I don't think he goes to usf, he lives aro...</td>\n      <td>61</td>\n    </tr>\n  </tbody>\n</table>\n</div>"
          },
          "metadata": {}
        }
      ]
    },
    {
      "metadata": {
        "_uuid": "1d78a4d2f166e1997f5402e0d2ddde33cc5ff08a"
      },
      "cell_type": "markdown",
      "source": "Now let's \"tokenize\" these messages. Tokenization is just the term used to describe the process of converting the normal text strings in to a list of tokens (words that we actually want).\n\nLet's see an example output on on column:\n\n**Note:**\nWe may get some warnings or errors for symbols we didn't account for or that weren't in Unicode (like a British pound symbol)"
    },
    {
      "metadata": {
        "trusted": true,
        "_uuid": "4813c4ed1446b08d57d8aabaf3fef67c1799bbbc"
      },
      "cell_type": "code",
      "source": "message['message'].head(5).apply(text_process)",
      "execution_count": 108,
      "outputs": [
        {
          "output_type": "execute_result",
          "execution_count": 108,
          "data": {
            "text/plain": "0    [Go, jurong, point, crazy, Available, bugis, n...\n1                       [Ok, lar, Joking, wif, u, oni]\n2    [Free, entry, 2, wkly, comp, win, FA, Cup, fin...\n3        [U, dun, say, early, hor, U, c, already, say]\n4    [Nah, dont, think, goes, usf, lives, around, t...\nName: message, dtype: object"
          },
          "metadata": {}
        }
      ]
    },
    {
      "metadata": {
        "trusted": true,
        "_uuid": "cf34c7fce0a020b3f3b6a2c741e9411c5c8224ac"
      },
      "cell_type": "code",
      "source": "message.head()",
      "execution_count": 109,
      "outputs": [
        {
          "output_type": "execute_result",
          "execution_count": 109,
          "data": {
            "text/plain": "  labels                                            message  length\n0    ham  Go until jurong point, crazy.. Available only ...     111\n1    ham                      Ok lar... Joking wif u oni...      29\n2   spam  Free entry in 2 a wkly comp to win FA Cup fina...     155\n3    ham  U dun say so early hor... U c already then say...      49\n4    ham  Nah I don't think he goes to usf, he lives aro...      61",
            "text/html": "<div>\n<style scoped>\n    .dataframe tbody tr th:only-of-type {\n        vertical-align: middle;\n    }\n\n    .dataframe tbody tr th {\n        vertical-align: top;\n    }\n\n    .dataframe thead th {\n        text-align: right;\n    }\n</style>\n<table border=\"1\" class=\"dataframe\">\n  <thead>\n    <tr style=\"text-align: right;\">\n      <th></th>\n      <th>labels</th>\n      <th>message</th>\n      <th>length</th>\n    </tr>\n  </thead>\n  <tbody>\n    <tr>\n      <th>0</th>\n      <td>ham</td>\n      <td>Go until jurong point, crazy.. Available only ...</td>\n      <td>111</td>\n    </tr>\n    <tr>\n      <th>1</th>\n      <td>ham</td>\n      <td>Ok lar... Joking wif u oni...</td>\n      <td>29</td>\n    </tr>\n    <tr>\n      <th>2</th>\n      <td>spam</td>\n      <td>Free entry in 2 a wkly comp to win FA Cup fina...</td>\n      <td>155</td>\n    </tr>\n    <tr>\n      <th>3</th>\n      <td>ham</td>\n      <td>U dun say so early hor... U c already then say...</td>\n      <td>49</td>\n    </tr>\n    <tr>\n      <th>4</th>\n      <td>ham</td>\n      <td>Nah I don't think he goes to usf, he lives aro...</td>\n      <td>61</td>\n    </tr>\n  </tbody>\n</table>\n</div>"
          },
          "metadata": {}
        }
      ]
    },
    {
      "metadata": {
        "_uuid": "4e29a3d0dc2f5203b8f9fc0475e7e6d0785f039e"
      },
      "cell_type": "markdown",
      "source": "### Continuing Normalization\n\nThere are a lot of ways to continue normalizing this text. Such as [Stemming](https://en.wikipedia.org/wiki/Stemming) or distinguishing by [part of speech](http://www.nltk.org/book/ch05.html).\n\nNLTK has lots of built-in tools and great documentation on a lot of these methods. Sometimes they don't work well for text-messages due to the way a lot of people tend to use abbreviations or shorthand, For example:\n    \n    'Nah dawg, IDK! Wut time u headin to da club?'\n    \nversus\n\n    'No dog, I don't know! What time are you heading to the club?'\n    \nSome text normalization methods will have trouble with this type of shorthand and so I'll leave you to explore those more advanced methods through the [NLTK book online](http://www.nltk.org/book/).\n\nFor now we will just focus on using what we have to convert our list of words to an actual vector that SciKit-Learn can use."
    },
    {
      "metadata": {
        "_uuid": "63d69be9e9870517de1e7767556cb81d7ce36d17"
      },
      "cell_type": "markdown",
      "source": "## Vectorization"
    },
    {
      "metadata": {
        "_uuid": "7f232c94189d3f95a0c789686d3bd68752e8c32e"
      },
      "cell_type": "markdown",
      "source": "Currently, we have the messages as lists of tokens (also known as [lemmas](http://nlp.stanford.edu/IR-book/html/htmledition/stemming-and-lemmatization-1.html)) and now we need to convert each of those messages into a vector the SciKit Learn's algorithm models can work with.\n\nNow we'll convert each message, represented as a list of tokens (lemmas) above, into a vector that machine learning models can understand.\n\nWe'll do that in three steps using the bag-of-words model:\n\n1. Count how many times does a word occur in each message (Known as term frequency)\n\n2. Weigh the counts, so that frequent tokens get lower weight (inverse document frequency)\n\n3. Normalize the vectors to unit length, to abstract from the original text length (L2 norm)\n\nLet's begin the first step:"
    },
    {
      "metadata": {
        "_uuid": "a70348542593c0b9318a92bfbc1605efd25c2dea"
      },
      "cell_type": "markdown",
      "source": "Each vector will have as many dimensions as there are unique words in the SMS corpus.  We will first use SciKit Learn's **CountVectorizer**. This model will convert a collection of text documents to a matrix of token counts.\n\nWe can imagine this as a 2-Dimensional matrix. Where the 1-dimension is the entire vocabulary (1 row per word) and the other dimension are the actual documents, in this case a column per text message. \n\nFor example:\n\n<table border = “1“>\n<tr>\n<th></th> <th>Message 1</th> <th>Message 2</th> <th>...</th> <th>Message N</th> \n</tr>\n<tr>\n<td><b>Word 1 Count</b></td><td>0</td><td>1</td><td>...</td><td>0</td>\n</tr>\n<tr>\n<td><b>Word 2 Count</b></td><td>0</td><td>0</td><td>...</td><td>0</td>\n</tr>\n<tr>\n<td><b>...</b></td> <td>1</td><td>2</td><td>...</td><td>0</td>\n</tr>\n<tr>\n<td><b>Word N Count</b></td> <td>0</td><td>1</td><td>...</td><td>1</td>\n</tr>\n</table>\n\n\nSince there are so many messages, we can expect a lot of zero counts for the presence of that word in that document. Because of this, SciKit Learn will output a [Sparse Matrix](https://en.wikipedia.org/wiki/Sparse_matrix)."
    },
    {
      "metadata": {
        "trusted": true,
        "_uuid": "a0f92cbbe105b0bc52b2da808a47e58db379925a"
      },
      "cell_type": "code",
      "source": "from sklearn.feature_extraction.text import CountVectorizer",
      "execution_count": 110,
      "outputs": []
    },
    {
      "metadata": {
        "_uuid": "e7b093555dd5ac0c354d07eaaa447bb7598061f4"
      },
      "cell_type": "markdown",
      "source": "There are a lot of arguments and parameters that can be passed to the CountVectorizer. In this case we will just specify the **analyzer** to be our own previously defined function:"
    },
    {
      "metadata": {
        "trusted": true,
        "_uuid": "0521bf9cc8b8e65c4a95031df6a377815d8314ea"
      },
      "cell_type": "code",
      "source": "bow_transformer = CountVectorizer(analyzer=text_process).fit(message['message'])\nprint(len(bow_transformer.vocabulary_))",
      "execution_count": 111,
      "outputs": [
        {
          "output_type": "stream",
          "text": "11425\n",
          "name": "stdout"
        }
      ]
    },
    {
      "metadata": {
        "_uuid": "4d5f32e2caa79891587a0f14d1430ad9dba93374"
      },
      "cell_type": "markdown",
      "source": "Let's take one text message and get its bag-of-words counts as a vector, putting to use our new `bow_transformer`:"
    },
    {
      "metadata": {
        "trusted": true,
        "_uuid": "c44e9ee3045ab0a981f02fb398ac477980ce577a"
      },
      "cell_type": "code",
      "source": "message4=message['message'][3]\nprint(message4)",
      "execution_count": 112,
      "outputs": [
        {
          "output_type": "stream",
          "text": "U dun say so early hor... U c already then say...\n",
          "name": "stdout"
        }
      ]
    },
    {
      "metadata": {
        "_uuid": "e50cd1d09492e80f803a1a55f7152eb3a48a9159"
      },
      "cell_type": "markdown",
      "source": "Now let's see its vector representation:"
    },
    {
      "metadata": {
        "trusted": true,
        "_uuid": "6130a460cd26d4aca7a07a5f3f1fb019f5cf8d91"
      },
      "cell_type": "code",
      "source": "bow4=bow_transformer.transform([message4])\nprint(bow4)\nprint(bow4.shape)",
      "execution_count": 113,
      "outputs": [
        {
          "output_type": "stream",
          "text": "  (0, 4068)\t2\n  (0, 4629)\t1\n  (0, 5261)\t1\n  (0, 6204)\t1\n  (0, 6222)\t1\n  (0, 7186)\t1\n  (0, 9554)\t2\n(1, 11425)\n",
          "name": "stdout"
        }
      ]
    },
    {
      "metadata": {
        "_uuid": "cf081e5fd17ab239853945775d780bcd18e7a450"
      },
      "cell_type": "markdown",
      "source": "This means that there are seven unique words in message number 4 (after removing common stop words). Two of them appear twice, the rest only once. Let's go ahead and check and confirm which ones appear twice:"
    },
    {
      "metadata": {
        "trusted": true,
        "_uuid": "4f7f036975543aebc9a93435b07ac686875facdd"
      },
      "cell_type": "code",
      "source": "print(bow_transformer.get_feature_names()[4073])\nprint(bow_transformer.get_feature_names()[9570])",
      "execution_count": 114,
      "outputs": [
        {
          "output_type": "stream",
          "text": "UIN\nschedule\n",
          "name": "stdout"
        }
      ]
    },
    {
      "metadata": {
        "_uuid": "f09e4222383f77317be863555f49dac6450c9287"
      },
      "cell_type": "markdown",
      "source": "Now we can use **.transform** on our Bag-of-Words (bow) transformed object and transform the entire DataFrame of messages. Let's go ahead and check out how the bag-of-words counts for the entire SMS corpus is a large, sparse matrix:"
    },
    {
      "metadata": {
        "trusted": true,
        "_uuid": "11e86fbcdbba5b994f6fbce97d710c66cbafba12"
      },
      "cell_type": "code",
      "source": "messages_bow = bow_transformer.transform(message['message'])",
      "execution_count": 115,
      "outputs": []
    },
    {
      "metadata": {
        "trusted": true,
        "_uuid": "dc65aed449db8faa8de58fe593e3997dee39c2fc"
      },
      "cell_type": "code",
      "source": "print('Shape of Sparse Matrix: ',messages_bow.shape)\nprint('Amount of non-zero occurences:',messages_bow.nnz)",
      "execution_count": 116,
      "outputs": [
        {
          "output_type": "stream",
          "text": "Shape of Sparse Matrix:  (5572, 11425)\nAmount of non-zero occurences: 50548\n",
          "name": "stdout"
        }
      ]
    },
    {
      "metadata": {
        "trusted": true,
        "_uuid": "21b3b8d276baba050f4106d9c04ea03cd5a92ca8"
      },
      "cell_type": "code",
      "source": "sparsity =(100.0 * messages_bow.nnz/(messages_bow.shape[0]*messages_bow.shape[1]))\nprint('sparsity:{}'.format(round(sparsity)))",
      "execution_count": 117,
      "outputs": [
        {
          "output_type": "stream",
          "text": "sparsity:0\n",
          "name": "stdout"
        }
      ]
    },
    {
      "metadata": {
        "_uuid": "78f8536cd4cb4ffb62a21b5a3caf0477ea9a418e"
      },
      "cell_type": "markdown",
      "source": "After the counting, the term weighting and normalization can be done with [TF-IDF](http://en.wikipedia.org/wiki/Tf%E2%80%93idf), using scikit-learn's `TfidfTransformer`.\n\n____\n### So what is TF-IDF?\nTF-IDF stands for *term frequency-inverse document frequency*, and the tf-idf weight is a weight often used in information retrieval and text mining. This weight is a statistical measure used to evaluate how important a word is to a document in a collection or corpus. The importance increases proportionally to the number of times a word appears in the document but is offset by the frequency of the word in the corpus. Variations of the tf-idf weighting scheme are often used by search engines as a central tool in scoring and ranking a document's relevance given a user query.\n\nOne of the simplest ranking functions is computed by summing the tf-idf for each query term; many more sophisticated ranking functions are variants of this simple model.\n\nTypically, the tf-idf weight is composed by two terms: the first computes the normalized Term Frequency (TF), aka. the number of times a word appears in a document, divided by the total number of words in that document; the second term is the Inverse Document Frequency (IDF), computed as the logarithm of the number of the documents in the corpus divided by the number of documents where the specific term appears.\n\n**TF: Term Frequency**, which measures how frequently a term occurs in a document. Since every document is different in length, it is possible that a term would appear much more times in long documents than shorter ones. Thus, the term frequency is often divided by the document length (aka. the total number of terms in the document) as a way of normalization: \n\n*TF(t) = (Number of times term t appears in a document) / (Total number of terms in the document).*\n\n**IDF: Inverse Document Frequency**, which measures how important a term is. While computing TF, all terms are considered equally important. However it is known that certain terms, such as \"is\", \"of\", and \"that\", may appear a lot of times but have little importance. Thus we need to weigh down the frequent terms while scale up the rare ones, by computing the following: \n\n*IDF(t) = log_e(Total number of documents / Number of documents with term t in it).*\n\nSee below for a simple example.\n\n**Example:**\n\nConsider a document containing 100 words wherein the word cat appears 3 times. \n\nThe term frequency (i.e., tf) for cat is then (3 / 100) = 0.03. Now, assume we have 10 million documents and the word cat appears in one thousand of these. Then, the inverse document frequency (i.e., idf) is calculated as log(10,000,000 / 1,000) = 4. Thus, the Tf-idf weight is the product of these quantities: 0.03 * 4 = 0.12.\n____\n\nLet's go ahead and see how we can do this in SciKit Learn:"
    },
    {
      "metadata": {
        "trusted": true,
        "_uuid": "81e4c407beaa15826652bd43ad9f4cdb43668bc2"
      },
      "cell_type": "code",
      "source": "from sklearn.feature_extraction.text import TfidfTransformer\ntfidf_transformer=TfidfTransformer().fit(messages_bow)\ntfidf4 = tfidf_transformer.transform(bow4)\nprint(tfidf4)",
      "execution_count": 118,
      "outputs": [
        {
          "output_type": "stream",
          "text": "  (0, 9554)\t0.5385626262927564\n  (0, 7186)\t0.4389365653379857\n  (0, 6222)\t0.3187216892949149\n  (0, 6204)\t0.29953799723697416\n  (0, 5261)\t0.29729957405868723\n  (0, 4629)\t0.26619801906087187\n  (0, 4068)\t0.40832589933384067\n",
          "name": "stdout"
        }
      ]
    },
    {
      "metadata": {
        "_uuid": "aeff0011e071e7abdcfee9f066b1a2943de9300d"
      },
      "cell_type": "markdown",
      "source": "We'll go ahead and check what is the IDF (inverse document frequency) of the word `\"u\"` and of word `\"university\"`?"
    },
    {
      "metadata": {
        "trusted": true,
        "_uuid": "34ef3ad4099f722b94ae9d50f9d20e2cffbdc41e"
      },
      "cell_type": "code",
      "source": "print(tfidf_transformer.idf_[bow_transformer.vocabulary_['u']])\nprint(tfidf_transformer.idf_[bow_transformer.vocabulary_['university']])",
      "execution_count": 119,
      "outputs": [
        {
          "output_type": "stream",
          "text": "3.2800524267409408\n8.527076498901426\n",
          "name": "stdout"
        }
      ]
    },
    {
      "metadata": {
        "_uuid": "173397850b9092baba416376a2b6b6c9bc82a9d4"
      },
      "cell_type": "markdown",
      "source": "To transform the entire bag-of-words corpus into TF-IDF corpus at once:"
    },
    {
      "metadata": {
        "trusted": true,
        "_uuid": "8e779b17160aa65cb852496c3ce790348dba5edb"
      },
      "cell_type": "code",
      "source": "messages_tfidf=tfidf_transformer.transform(messages_bow)\nprint(messages_tfidf.shape)",
      "execution_count": 120,
      "outputs": [
        {
          "output_type": "stream",
          "text": "(5572, 11425)\n",
          "name": "stdout"
        }
      ]
    },
    {
      "metadata": {
        "_uuid": "ee96d026ca7f3a93beb3285d1d772697cc413662"
      },
      "cell_type": "markdown",
      "source": "There are many ways the data can be preprocessed and vectorized. These steps involve feature engineering and building a \"pipeline\". I encourage you to check out SciKit Learn's documentation on dealing with text data as well as the expansive collection of available papers and books on the general topic of NLP."
    },
    {
      "metadata": {
        "_uuid": "55be685f6f63acad03396bb65b2aa2510b236f0f"
      },
      "cell_type": "markdown",
      "source": "## Training a model"
    },
    {
      "metadata": {
        "_uuid": "4c0443d35e98389b9eb280bae3dedfa3b663b2ec"
      },
      "cell_type": "markdown",
      "source": "With messages represented as vectors, we can finally train our spam/ham classifier. Now we can actually use almost any sort of classification algorithms. For a [variety of reasons](http://www.inf.ed.ac.uk/teaching/courses/inf2b/learnnotes/inf2b-learn-note07-2up.pdf), the Naive Bayes classifier algorithm is a good choice."
    },
    {
      "metadata": {
        "_uuid": "079777552ec222a86dc2afd38b6ba67c62d1d9a0"
      },
      "cell_type": "markdown",
      "source": "We'll be using scikit-learn here, choosing the [Naive Bayes](http://en.wikipedia.org/wiki/Naive_Bayes_classifier) classifier to start with:"
    },
    {
      "metadata": {
        "trusted": true,
        "_uuid": "932c381900bd8b3bc06925737a3b6345978f676f"
      },
      "cell_type": "code",
      "source": "from sklearn.naive_bayes import MultinomialNB\nspam_detect_model = MultinomialNB().fit(messages_tfidf,message['labels'])",
      "execution_count": 123,
      "outputs": []
    },
    {
      "metadata": {
        "trusted": true,
        "_uuid": "78d8903e5b11e0336dfef9cb184c480280962f05"
      },
      "cell_type": "code",
      "source": "print('predicted:',spam_detect_model.predict(tfidf4)[0])\nprint('expected:',message.labels[3])",
      "execution_count": 125,
      "outputs": [
        {
          "output_type": "stream",
          "text": "predicted: ham\nexpected: ham\n",
          "name": "stdout"
        }
      ]
    },
    {
      "metadata": {
        "_uuid": "6ce2f68aaa613e8c879872ea6cfd45f5121837fa"
      },
      "cell_type": "markdown",
      "source": "Fantastic! We've developed a model that can attempt to predict spam vs ham classification!\n\n## Part 6: Model Evaluation\nNow we want to determine how well our model will do overall on the entire dataset. Let's begin by getting all the predictions:"
    },
    {
      "metadata": {
        "trusted": true,
        "_uuid": "4c13feb12cb15ec2d1b65f1377daea99cc8f1bbb"
      },
      "cell_type": "code",
      "source": "all_predictions = spam_detect_model.predict(messages_tfidf)\nprint(all_predictions)",
      "execution_count": 126,
      "outputs": [
        {
          "output_type": "stream",
          "text": "['ham' 'ham' 'spam' ... 'ham' 'ham' 'ham']\n",
          "name": "stdout"
        }
      ]
    },
    {
      "metadata": {
        "_uuid": "61eb01827d0e317e4ff7a2d76cb24c8789d668b5"
      },
      "cell_type": "markdown",
      "source": "We can use SciKit Learn's built-in classification report, which returns [precision, recall,](https://en.wikipedia.org/wiki/Precision_and_recall) [f1-score](https://en.wikipedia.org/wiki/F1_score), and a column for support (meaning how many cases supported that classification). Check out the links for more detailed info on each of these metrics and the figure below:"
    },
    {
      "metadata": {
        "_uuid": "977a39b7fcdfe0659739f5c0ba03f943a78a517f"
      },
      "cell_type": "markdown",
      "source": "<img src='https://upload.wikimedia.org/wikipedia/commons/thumb/2/26/Precisionrecall.svg/700px-Precisionrecall.svg.png' width=400 />"
    },
    {
      "metadata": {
        "trusted": true,
        "_uuid": "341fd19a5a3b77fd70fe2e8e867d760603564086"
      },
      "cell_type": "code",
      "source": "from sklearn.metrics import classification_report,confusion_matrix\nprint(classification_report(message['labels'],all_predictions))\nprint(confusion_matrix(message['labels'],all_predictions))",
      "execution_count": 132,
      "outputs": [
        {
          "output_type": "stream",
          "text": "              precision    recall  f1-score   support\n\n         ham       0.98      1.00      0.99      4825\n        spam       1.00      0.85      0.92       747\n\n   micro avg       0.98      0.98      0.98      5572\n   macro avg       0.99      0.92      0.95      5572\nweighted avg       0.98      0.98      0.98      5572\n\n[[4825    0]\n [ 115  632]]\n",
          "name": "stdout"
        }
      ]
    },
    {
      "metadata": {
        "_uuid": "399b8529772af15071da62e3fe52c6365bf95a3c"
      },
      "cell_type": "markdown",
      "source": "There are quite a few possible metrics for evaluating model performance. Which one is the most important depends on the task and the business effects of decisions based off of the model. For example, the cost of mis-predicting \"spam\" as \"ham\" is probably much lower than mis-predicting \"ham\" as \"spam\"."
    },
    {
      "metadata": {
        "_uuid": "a61db96c2ed6217f2f20572d418f6668749ac66a"
      },
      "cell_type": "markdown",
      "source": "In the above \"evaluation\",we evaluated accuracy on the same data we used for training. **You should never actually evaluate on the same dataset you train on!**\n\nSuch evaluation tells us nothing about the true predictive power of our model. If we simply remembered each example during training, the accuracy on training data would trivially be 100%, even though we wouldn't be able to classify any new messages.\n\nA proper way is to split the data into a training/test set, where the model only ever sees the **training data** during its model fitting and parameter tuning. The **test data** is never used in any way. This is then our final evaluation on test data is representative of true predictive performance.\n\n## Train Test Split"
    },
    {
      "metadata": {
        "trusted": true,
        "_uuid": "e0767a42d21bed9f3cf3c47891362f38449c0f78"
      },
      "cell_type": "code",
      "source": "from sklearn.model_selection import train_test_split\nmsg_train,msg_test,label_train,label_test = train_test_split(message['message'],message['labels'],test_size=0.2)",
      "execution_count": 133,
      "outputs": []
    },
    {
      "metadata": {
        "trusted": true,
        "_uuid": "a2ec46cdabcabd6242a556bd3517845d93f22ace"
      },
      "cell_type": "code",
      "source": "print(len(msg_train),len(msg_test),len(label_train),len(label_test))",
      "execution_count": 136,
      "outputs": [
        {
          "output_type": "stream",
          "text": "4457 1115 4457 1115\n",
          "name": "stdout"
        }
      ]
    },
    {
      "metadata": {
        "_uuid": "28680dec047937a93271f280c77dd09bc72b7c1b"
      },
      "cell_type": "markdown",
      "source": "The test size is 20% of the entire dataset (1115 messages out of total 5572), and the training is the rest (4457 out of 5572). Note the default split would have been 30/70.\n\n## Creating a Data Pipeline\n\nLet's run our model again and then predict off the test set. We will use SciKit Learn's [pipeline](http://scikit-learn.org/stable/modules/pipeline.html) capabilities to store a pipeline of workflow. This will allow us to set up all the transformations that we will do to the data for future use. Let's see an example of how it works:"
    },
    {
      "metadata": {
        "trusted": true,
        "_uuid": "7cb341adddba42d26600e9a24fd741b0a97c9bc4"
      },
      "cell_type": "code",
      "source": "from sklearn.pipeline import Pipeline\npipeline = Pipeline([\n   ( 'bow',CountVectorizer(analyzer=text_process)),\n    ('tfidf',TfidfTransformer()),\n    ('classifier',MultinomialNB()),\n])",
      "execution_count": 137,
      "outputs": []
    },
    {
      "metadata": {
        "trusted": true,
        "_uuid": "695dc23898913f4e6af64c9a7cce8c5a4b3f3c29"
      },
      "cell_type": "code",
      "source": "pipeline.fit(msg_train,label_train)",
      "execution_count": 138,
      "outputs": [
        {
          "output_type": "execute_result",
          "execution_count": 138,
          "data": {
            "text/plain": "Pipeline(memory=None,\n     steps=[('bow', CountVectorizer(analyzer=<function text_process at 0x7fd7a71d5730>,\n        binary=False, decode_error='strict', dtype=<class 'numpy.int64'>,\n        encoding='utf-8', input='content', lowercase=True, max_df=1.0,\n        max_features=None, min_df=1, ngram_range=(1, 1), preprocessor=No...f=False, use_idf=True)), ('classifier', MultinomialNB(alpha=1.0, class_prior=None, fit_prior=True))])"
          },
          "metadata": {}
        }
      ]
    },
    {
      "metadata": {
        "trusted": true,
        "_uuid": "cde18d69901018ed7e324a1cbb6536f77ea29ee6"
      },
      "cell_type": "code",
      "source": "predictions = pipeline.predict(msg_test)",
      "execution_count": 139,
      "outputs": []
    },
    {
      "metadata": {
        "trusted": true,
        "_uuid": "0bd458cda449b10a29be2dc6f054872717f6f734"
      },
      "cell_type": "code",
      "source": "print(classification_report(predictions,label_test))",
      "execution_count": 140,
      "outputs": [
        {
          "output_type": "stream",
          "text": "              precision    recall  f1-score   support\n\n         ham       1.00      0.95      0.97      1006\n        spam       0.68      1.00      0.81       109\n\n   micro avg       0.95      0.95      0.95      1115\n   macro avg       0.84      0.97      0.89      1115\nweighted avg       0.97      0.95      0.96      1115\n\n",
          "name": "stdout"
        }
      ]
    },
    {
      "metadata": {
        "_uuid": "7f301a9946f073497d51ad8bd5fb1a2d63fc8586"
      },
      "cell_type": "markdown",
      "source": "The test size is 20% of the entire dataset (1115 messages out of total 5572), and the training is the rest (4457 out of 5572). Note the default split would have been 30/70.\n\n## Creating a Data Pipeline\n\nLet's run our model again and then predict off the test set. We will use SciKit Learn's [pipeline](http://scikit-learn.org/stable/modules/pipeline.html) capabilities to store a pipeline of workflow. This will allow us to set up all the transformations that we will do to the data for future use. Let's see an example of how it works:"
    },
    {
      "metadata": {
        "_uuid": "0d1a7992e5c4b22a50c1d19be69021450db60f76"
      },
      "cell_type": "markdown",
      "source": "## More Resources\n\nCheck out the links below for more info on Natural Language Processing:\n\n[NLTK Book Online](http://www.nltk.org/book/)\n\n[Kaggle Walkthrough](https://www.kaggle.com/c/word2vec-nlp-tutorial/details/part-1-for-beginners-bag-of-words)\n\n[SciKit Learn's Tutorial](http://scikit-learn.org/stable/tutorial/text_analytics/working_with_text_data.html)"
    },
    {
      "metadata": {
        "_uuid": "b28a7a038d780556ee0b086d7bdde48dccfbe281"
      },
      "cell_type": "markdown",
      "source": "**Thank You for Reading this kernel  And Do Comment  If You Have Any Doubt \n    **"
    },
    {
      "metadata": {
        "_uuid": "c6bd6127f7ef2e3b52f51d428793ddce95dee5b4"
      },
      "cell_type": "markdown",
      "source": "***Do   Upvote    For  Motivating   Me***"
    }
  ],
  "metadata": {
    "kernelspec": {
      "display_name": "Python 3",
      "language": "python",
      "name": "python3"
    },
    "language_info": {
      "name": "python",
      "version": "3.6.6",
      "mimetype": "text/x-python",
      "codemirror_mode": {
        "name": "ipython",
        "version": 3
      },
      "pygments_lexer": "ipython3",
      "nbconvert_exporter": "python",
      "file_extension": ".py"
    }
  },
  "nbformat": 4,
  "nbformat_minor": 1
}